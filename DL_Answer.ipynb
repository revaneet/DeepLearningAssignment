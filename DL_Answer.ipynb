{
  "nbformat": 4,
  "nbformat_minor": 0,
  "metadata": {
    "colab": {
      "name": "DL.ipynb",
      "version": "0.3.2",
      "provenance": [],
      "collapsed_sections": []
    },
    "kernelspec": {
      "name": "python3",
      "display_name": "Python 3"
    }
  },
  "cells": [
    {
      "cell_type": "code",
      "metadata": {
        "id": "BwfJ2Rtr8s9F",
        "colab_type": "code",
        "colab": {
          "base_uri": "https://localhost:8080/",
          "height": 34
        },
        "outputId": "81322031-5e02-4a22-944c-9b851c158545"
      },
      "source": [
        "import keras\n",
        "from keras.models import Sequential\n",
        "from keras.layers import Dense, Dropout, Flatten, Activation, Conv2D, MaxPooling2D, BatchNormalization\n",
        "from keras import backend as K\n",
        "import numpy as np\n",
        "import pickle\n",
        "import matplotlib.pyplot as plt\n",
        "from sklearn.model_selection import train_test_split\n",
        "from sklearn.metrics import classification_report, accuracy_score"
      ],
      "execution_count": 7,
      "outputs": [
        {
          "output_type": "stream",
          "text": [
            "Using TensorFlow backend.\n"
          ],
          "name": "stderr"
        }
      ]
    },
    {
      "cell_type": "code",
      "metadata": {
        "id": "RS4oiWvg8s_7",
        "colab_type": "code",
        "colab": {
          "base_uri": "https://localhost:8080/",
          "height": 34
        },
        "outputId": "36319b63-c6bf-4867-e935-574bd22ead6f"
      },
      "source": [
        "K.image_data_format()"
      ],
      "execution_count": 22,
      "outputs": [
        {
          "output_type": "execute_result",
          "data": {
            "text/plain": [
              "'channels_last'"
            ]
          },
          "metadata": {
            "tags": []
          },
          "execution_count": 22
        }
      ]
    },
    {
      "cell_type": "markdown",
      "metadata": {
        "id": "xFMiAnDCXT_m",
        "colab_type": "text"
      },
      "source": [
        "# Import Pickle files\n",
        "\n"
      ]
    },
    {
      "cell_type": "code",
      "metadata": {
        "id": "aFW0Kk7L8Pe8",
        "colab_type": "code",
        "colab": {}
      },
      "source": [
        "with open('trainX.pickle', 'rb') as f1:\n",
        "    trainX = pickle.load(f1)\n",
        "\n",
        "with open('trainY.pickle', 'rb') as f2:\n",
        "    trainY = pickle.load(f2)\n",
        "\n",
        "with open('testX.pickle', 'rb') as f3:\n",
        "    testX = pickle.load(f3)"
      ],
      "execution_count": 0,
      "outputs": []
    },
    {
      "cell_type": "code",
      "metadata": {
        "id": "fVhbXBvw8q_8",
        "colab_type": "code",
        "colab": {
          "base_uri": "https://localhost:8080/",
          "height": 67
        },
        "outputId": "f51c829e-ccf6-4394-ccc9-6343097f50d4"
      },
      "source": [
        "print(trainX.shape)\n",
        "print(trainY.shape)\n",
        "print(testX.shape)"
      ],
      "execution_count": 15,
      "outputs": [
        {
          "output_type": "stream",
          "text": [
            "(60000, 28, 28)\n",
            "(60000,)\n",
            "(10000, 28, 28)\n"
          ],
          "name": "stdout"
        }
      ]
    },
    {
      "cell_type": "markdown",
      "metadata": {
        "id": "q-jIm3R8XoUf",
        "colab_type": "text"
      },
      "source": [
        "# Split training further into train and test data"
      ]
    },
    {
      "cell_type": "code",
      "metadata": {
        "id": "1Or8zLHv9Cw4",
        "colab_type": "code",
        "colab": {}
      },
      "source": [
        "trainX, test_X, trainY, test_Y = train_test_split(trainX, trainY, test_size=0.15, random_state=42)"
      ],
      "execution_count": 0,
      "outputs": []
    },
    {
      "cell_type": "code",
      "metadata": {
        "id": "VOKR69Bk90W7",
        "colab_type": "code",
        "colab": {
          "base_uri": "https://localhost:8080/",
          "height": 84
        },
        "outputId": "b7c6d4ab-4d26-4802-a58a-796a64b6836e"
      },
      "source": [
        "print(trainX.shape)\n",
        "print(trainY.shape)\n",
        "print(test_X.shape)\n",
        "print(test_Y.shape)"
      ],
      "execution_count": 17,
      "outputs": [
        {
          "output_type": "stream",
          "text": [
            "(51000, 28, 28)\n",
            "(51000,)\n",
            "(9000, 28, 28)\n",
            "(9000,)\n"
          ],
          "name": "stdout"
        }
      ]
    },
    {
      "cell_type": "markdown",
      "metadata": {
        "id": "aQYPybFLXxLp",
        "colab_type": "text"
      },
      "source": [
        "# Data reshaping and encoding"
      ]
    },
    {
      "cell_type": "code",
      "metadata": {
        "id": "bzn3glxH93Sc",
        "colab_type": "code",
        "colab": {}
      },
      "source": [
        "im_shape = (28,28,1)\n",
        "trainX = trainX.reshape((trainX.shape[0], 28, 28, 1))\n",
        "test_X = test_X.reshape((test_X.shape[0], 28, 28, 1))\n",
        "testX = testX.reshape((testX.shape[0], 28, 28, 1))\n",
        "\n",
        "trainX = trainX.astype(\"float32\") / 255.0\n",
        "test_X = test_X.astype(\"float32\") / 255.0\n",
        "testX = testX.astype(\"float32\") / 255.0"
      ],
      "execution_count": 0,
      "outputs": []
    },
    {
      "cell_type": "code",
      "metadata": {
        "id": "8SbyqsAM96of",
        "colab_type": "code",
        "colab": {}
      },
      "source": [
        "trainY = keras.utils.to_categorical(trainY, 10)\n",
        "test_Y = keras.utils.to_categorical(test_Y, 10)"
      ],
      "execution_count": 0,
      "outputs": []
    },
    {
      "cell_type": "markdown",
      "metadata": {
        "id": "5rvY8NVXX4f_",
        "colab_type": "text"
      },
      "source": [
        "# Define CNN model "
      ]
    },
    {
      "cell_type": "code",
      "metadata": {
        "id": "JvN1iwnc98_y",
        "colab_type": "code",
        "colab": {}
      },
      "source": [
        "model = Sequential()\n",
        "\n",
        "\n",
        "model.add(Conv2D(32, (3, 3), padding=\"same\",\n",
        "input_shape=im_shape))\n",
        "model.add(Activation(\"relu\"))\n",
        "model.add(BatchNormalization(axis=-1))\n",
        "model.add(Conv2D(32, (3, 3), padding=\"same\"))\n",
        "model.add(Activation(\"relu\"))\n",
        "model.add(BatchNormalization(axis=-1))\n",
        "model.add(MaxPooling2D(pool_size=(2, 2)))\n",
        "model.add(Dropout(0.25))\n",
        "\n",
        "model.add(Conv2D(64, (3, 3), padding=\"same\"))\n",
        "model.add(Activation(\"relu\"))\n",
        "model.add(BatchNormalization(axis=-1))\n",
        "model.add(Conv2D(64, (3, 3), padding=\"same\"))\n",
        "model.add(Activation(\"relu\"))\n",
        "model.add(BatchNormalization(axis=-1))\n",
        "model.add(MaxPooling2D(pool_size=(2, 2)))\n",
        "model.add(Dropout(0.25))\n",
        "\n",
        "model.add(Flatten())\n",
        "model.add(Dense(512))\n",
        "model.add(Activation(\"relu\"))\n",
        "model.add(BatchNormalization())\n",
        "model.add(Dropout(0.5))\n",
        "\n",
        "model.add(Dense(10))\n",
        "model.add(Activation(\"softmax\"))\n",
        "\n",
        "model.compile(loss=\"categorical_crossentropy\", optimizer='adam', metrics=[\"accuracy\"])"
      ],
      "execution_count": 0,
      "outputs": []
    },
    {
      "cell_type": "code",
      "metadata": {
        "id": "zso1K5hP_upq",
        "colab_type": "code",
        "colab": {
          "base_uri": "https://localhost:8080/",
          "height": 440
        },
        "outputId": "d19b5a86-7424-421b-ca76-e772bf3a3563"
      },
      "source": [
        "H = model.fit(trainX, trainY, validation_data=(test_X, test_Y), batch_size=128, epochs=10)"
      ],
      "execution_count": 24,
      "outputs": [
        {
          "output_type": "stream",
          "text": [
            "W0623 20:20:12.802753 140661066561408 deprecation.py:323] From /usr/local/lib/python3.6/dist-packages/tensorflow/python/ops/math_grad.py:1250: add_dispatch_support.<locals>.wrapper (from tensorflow.python.ops.array_ops) is deprecated and will be removed in a future version.\n",
            "Instructions for updating:\n",
            "Use tf.where in 2.0, which has the same broadcast rule as np.where\n"
          ],
          "name": "stderr"
        },
        {
          "output_type": "stream",
          "text": [
            "Train on 51000 samples, validate on 9000 samples\n",
            "Epoch 1/10\n",
            "51000/51000 [==============================] - 350s 7ms/step - loss: 0.4763 - acc: 0.8360 - val_loss: 0.3871 - val_acc: 0.8512\n",
            "Epoch 2/10\n",
            "51000/51000 [==============================] - 351s 7ms/step - loss: 0.3040 - acc: 0.8893 - val_loss: 0.2349 - val_acc: 0.9134\n",
            "Epoch 3/10\n",
            "51000/51000 [==============================] - 349s 7ms/step - loss: 0.2586 - acc: 0.9057 - val_loss: 0.2311 - val_acc: 0.9164\n",
            "Epoch 4/10\n",
            "51000/51000 [==============================] - 349s 7ms/step - loss: 0.2296 - acc: 0.9155 - val_loss: 0.2197 - val_acc: 0.9200\n",
            "Epoch 5/10\n",
            "51000/51000 [==============================] - 349s 7ms/step - loss: 0.2139 - acc: 0.9218 - val_loss: 0.2104 - val_acc: 0.9216\n",
            "Epoch 6/10\n",
            "51000/51000 [==============================] - 350s 7ms/step - loss: 0.2023 - acc: 0.9249 - val_loss: 0.2605 - val_acc: 0.9086\n",
            "Epoch 7/10\n",
            "51000/51000 [==============================] - 353s 7ms/step - loss: 0.1948 - acc: 0.9291 - val_loss: 0.2003 - val_acc: 0.9281\n",
            "Epoch 8/10\n",
            "51000/51000 [==============================] - 356s 7ms/step - loss: 0.1813 - acc: 0.9342 - val_loss: 0.1873 - val_acc: 0.9302\n",
            "Epoch 9/10\n",
            "51000/51000 [==============================] - 355s 7ms/step - loss: 0.1724 - acc: 0.9358 - val_loss: 0.1940 - val_acc: 0.9303\n",
            "Epoch 10/10\n",
            "51000/51000 [==============================] - 352s 7ms/step - loss: 0.1654 - acc: 0.9392 - val_loss: 0.1985 - val_acc: 0.9288\n"
          ],
          "name": "stdout"
        }
      ]
    },
    {
      "cell_type": "code",
      "metadata": {
        "id": "FlcRpsIV-CRE",
        "colab_type": "code",
        "colab": {
          "base_uri": "https://localhost:8080/",
          "height": 319
        },
        "outputId": "05498630-111a-4c7c-ba6f-2382a8384844"
      },
      "source": [
        "preds = model.predict(test_X)\n",
        " \n",
        "print(\"[INFO] evaluating network...\")\n",
        "print(classification_report(test_Y.argmax(axis=1), preds.argmax(axis=1)))"
      ],
      "execution_count": 25,
      "outputs": [
        {
          "output_type": "stream",
          "text": [
            "[INFO] evaluating network...\n",
            "              precision    recall  f1-score   support\n",
            "\n",
            "           0       0.91      0.87      0.89       899\n",
            "           1       1.00      0.99      0.99       906\n",
            "           2       0.94      0.81      0.87       901\n",
            "           3       0.94      0.94      0.94       905\n",
            "           4       0.82      0.94      0.88       924\n",
            "           5       0.99      0.98      0.99       916\n",
            "           6       0.80      0.84      0.82       925\n",
            "           7       0.94      0.98      0.96       830\n",
            "           8       0.99      0.98      0.99       905\n",
            "           9       0.98      0.96      0.97       889\n",
            "\n",
            "    accuracy                           0.93      9000\n",
            "   macro avg       0.93      0.93      0.93      9000\n",
            "weighted avg       0.93      0.93      0.93      9000\n",
            "\n"
          ],
          "name": "stdout"
        }
      ]
    },
    {
      "cell_type": "markdown",
      "metadata": {
        "id": "0Mm2_T2EYJiy",
        "colab_type": "text"
      },
      "source": [
        ""
      ]
    },
    {
      "cell_type": "code",
      "metadata": {
        "id": "8XxTEhIc_oxi",
        "colab_type": "code",
        "colab": {}
      },
      "source": [
        "AnswerPrediction = model.predict(testX)"
      ],
      "execution_count": 0,
      "outputs": []
    },
    {
      "cell_type": "code",
      "metadata": {
        "id": "niICxS5GOSep",
        "colab_type": "code",
        "colab": {}
      },
      "source": [
        "with open(\"testY.pickle\", 'wb') as f:\n",
        "  pickle.dump(AnswerPrediction, f)"
      ],
      "execution_count": 0,
      "outputs": []
    },
    {
      "cell_type": "code",
      "metadata": {
        "id": "2z4rVMQmYiM5",
        "colab_type": "code",
        "colab": {
          "base_uri": "https://localhost:8080/",
          "height": 478
        },
        "outputId": "e6416e69-d985-4f1d-9737-713490fa5c75"
      },
      "source": [
        "N = 10\n",
        "plt.style.use(\"ggplot\")\n",
        "plt.figure(figsize=(11,7))\n",
        "plt.plot(np.arange(0, N), H.history[\"loss\"], label=\"train_loss\")\n",
        "plt.plot(np.arange(0, N), H.history[\"val_loss\"], label=\"val_loss\")\n",
        "plt.plot(np.arange(0, N), H.history[\"acc\"], label=\"train_acc\")\n",
        "plt.plot(np.arange(0, N), H.history[\"val_acc\"], label=\"val_acc\")\n",
        "plt.title(\"Training Loss and Accuracy on Dataset\")\n",
        "plt.xlabel(\"Epoch\")\n",
        "plt.ylabel(\"Loss/Accuracy\")\n",
        "plt.legend(loc=\"best\")"
      ],
      "execution_count": 40,
      "outputs": [
        {
          "output_type": "execute_result",
          "data": {
            "text/plain": [
              "<matplotlib.legend.Legend at 0x7fedec067a90>"
            ]
          },
          "metadata": {
            "tags": []
          },
          "execution_count": 40
        },
        {
          "output_type": "display_data",
          "data": {
            "image/png": "[encoded data removed]",
            "text/plain": [
              "<Figure size 792x504 with 1 Axes>"
            ]
          },
          "metadata": {
            "tags": []
          }
        }
      ]
    }
  ]
}